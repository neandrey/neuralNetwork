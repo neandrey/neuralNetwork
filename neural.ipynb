{
 "cells": [
  {
   "cell_type": "code",
   "execution_count": 8,
   "metadata": {},
   "outputs": [],
   "source": [
    "import numpy\n",
    "import scipy.special\n",
    "import matplotlib.pyplot\n",
    "%matplotlib inline\n",
    "\n",
    "#определение класса нейронной сеть\n",
    "class neuralNetwork:\n",
    "    \n",
    "    #инициализация нейронной сети\n",
    "    def __init__(self, inputnodes, hiddennodes, outputnodes, learning):\n",
    "        #задать количество узлов во входном, скрытом и выходном слое\n",
    "        self.inodes = inputnodes\n",
    "        self.hnodes = hiddennodes\n",
    "        self.onodes = outputnodes\n",
    "        \n",
    "        #коэффициент обучения\n",
    "        self.lr = learning\n",
    "        \n",
    "        #матрицы весовых коэффициентов связей wih(между входной и скрытым слоями) и\n",
    "        #who(между скрытым и выходным слоями).\n",
    "        #весовые коэффициенты связей между узлом i и узлом j следующего слоя\n",
    "        #обозначены как w_i_j\n",
    "        #self.wih = (numpy.random.rand(self.hnodes, self.inodes) - 0.5)\n",
    "        #self.who = (numpy.random.rand(self.onodes, self.hnodes) - 0.5)\n",
    "        self.wih = numpy.random.normal(0.0, pow(self.hnodes, - 0.5), (self.hnodes, self.inodes))\n",
    "        self.who = numpy.random.normal(0.0, pow(self.onodes, - 0.5), (self.onodes, self.hnodes))\n",
    "        \n",
    "        #использование сигмоиды в качестве функции активации\n",
    "        self.activation_function = lambda x: scipy.special.expit(x)\n",
    "        \n",
    "        pass\n",
    "    \n",
    "    \n",
    "    #тренировка нейронной сети\n",
    "    def train(self, inputs_list, targets_list):\n",
    "        #преобразование списка входных значений в двухмерный массив\n",
    "        inputs = numpy.array(inputs_list, ndmin=2).T\n",
    "        targets = numpy.array(targets_list, ndmin=2).T\n",
    "        #print(targets)\n",
    "        \n",
    "        #рассчитать входяшие сигналы для скрытого слоя\n",
    "        hidden_inputs = numpy.dot(self.wih, inputs)\n",
    "        #рассчитать исходящие сигналы для скрытого слоя\n",
    "        hidden_outputs = self.activation_function(hidden_inputs)\n",
    "        \n",
    "        #рассчитать входящие сигналы для выходного слоя\n",
    "        final_inputs = numpy.dot(self.who, hidden_outputs)\n",
    "        #рассчитать исходящие сигналы для выходного слоя\n",
    "        final_outputs = self.activation_function(final_inputs)\n",
    "        \n",
    "        #ошибки выходного слоя = (целевое значение - фактическое значение)\n",
    "        output_errors = targets - final_outputs\n",
    "        #ошибки скрытого слоя = это ошибки output_errors,\n",
    "        #распределенные пропорционально весовым коэффициентам связей\n",
    "        #и рекомбинированные на скрытых узлах\n",
    "        hidden_errors = numpy.dot(self.who.T, output_errors)\n",
    "        \n",
    "        #обновить весовые коэффициенты для связи между\n",
    "        #скрытым и выходным слоями\n",
    "        self.who += self.lr * numpy.dot((output_errors * final_outputs * (1.0 - final_outputs)),\n",
    "                                       numpy.transpose(hidden_outputs))\n",
    "        \n",
    "        #обновление весовых коэффициентов для связей между входным и скрытым слоями\n",
    "        self.wih += self.lr * numpy.dot((hidden_errors * hidden_outputs * (1.0 - hidden_outputs)),\n",
    "                                        numpy.transpose(inputs))\n",
    "        \n",
    "        pass\n",
    "    \n",
    "    #опрос нейронной сети\n",
    "    def query(self, inputs_list):\n",
    "        #преобразуем список входных значений в двухмерный массив\n",
    "        inputs = numpy.array(inputs_list, ndmin = 2).T\n",
    "        \n",
    "        #рассчитать входящие сигналы для скрытого слоя\n",
    "        hidden_inputs = numpy.dot(self.wih, inputs)\n",
    "        #рассчитать исходящие сигналы для скрытого слоя\n",
    "        hidden_outputs = self.activation_function(hidden_inputs)\n",
    "        \n",
    "        #рассчитать входящие сигналы для выходного слоя\n",
    "        final_inputs = numpy.dot(self.who, hidden_outputs)\n",
    "        #рассчитать исходящие сигналы для выходного слоя\n",
    "        final_outputs = self.activation_function(final_inputs)\n",
    "        \n",
    "        return final_outputs\n",
    "    \n",
    "    \n",
    "    "
   ]
  },
  {
   "cell_type": "code",
   "execution_count": 9,
   "metadata": {},
   "outputs": [],
   "source": [
    "#количество входных, скрытых и выходных узлов\n",
    "input_nodes = 784\n",
    "hidden_nodes = 100\n",
    "output_nodes = 10\n",
    "\n",
    "#коэффициент обучения равен 0,3\n",
    "learning_rate = 0.3\n",
    "\n",
    "#создаем экземпляр нейронной сети\n",
    "n = neuralNetwork(input_nodes, hidden_nodes, output_nodes, learning_rate)\n"
   ]
  },
  {
   "cell_type": "code",
   "execution_count": 10,
   "metadata": {},
   "outputs": [],
   "source": [
    "#загрузка в список тренировочный набор данных\n",
    "training_data_file = open(\"dataMNIST/mnist_train.csv\", 'r')\n",
    "training_data_list = training_data_file.readlines()\n",
    "training_data_file.close()\n"
   ]
  },
  {
   "cell_type": "code",
   "execution_count": 11,
   "metadata": {},
   "outputs": [],
   "source": [
    "#тренировка нейронной сети\n",
    "#перебрать все записи в тренировочном наборе данных\n",
    "epochs = 2\n",
    "\n",
    "for e in range(epochs):\n",
    "    for record in training_data_list:\n",
    "        all_values = record.split(',')\n",
    "        inputs = (numpy.asfarray(all_values[1:]) / 255.0 * 0.99) + 0.01\n",
    "        #print(inputs)\n",
    "        #print(all_values[0])\n",
    "        targets = numpy.zeros(output_nodes) + 0.01\n",
    "    \n",
    "        targets[int(all_values[0])] = 0.99\n",
    "        #print(targets)\n",
    "        n.train(inputs, targets)\n",
    "        pass\n",
    "    pass\n"
   ]
  },
  {
   "cell_type": "code",
   "execution_count": 12,
   "metadata": {},
   "outputs": [
    {
     "name": "stdout",
     "output_type": "stream",
     "text": [
      "5\n"
     ]
    },
    {
     "data": {
      "text/plain": [
       "<matplotlib.image.AxesImage at 0x7f9bb9eca9e8>"
      ]
     },
     "execution_count": 12,
     "metadata": {},
     "output_type": "execute_result"
    },
    {
     "data": {
      "image/png": "[encoded data removed]",
      "text/plain": [
       "<matplotlib.figure.Figure at 0x7f9bc3280b38>"
      ]
     },
     "metadata": {},
     "output_type": "display_data"
    }
   ],
   "source": [
    "#загрузить в список тестовый набор данных CSV-файла набора MNIST\n",
    "test_data_file = open(\"dataMNIST/mnist_train.csv\", \"r\")\n",
    "test_data_list = test_data_file.readlines()\n",
    "test_data_file.close()\n",
    "\n",
    "#получить первую тестовую запись\n",
    "all_values = test_data_list[0].split(',')\n",
    "#вывести маркер\n",
    "print(all_values[0])\n",
    "\n",
    "image_array = numpy.asfarray(all_values[1:]).reshape((28, 28))\n",
    "matplotlib.pyplot.imshow(image_array, cmap='Greys', interpolation='None')\n"
   ]
  },
  {
   "cell_type": "code",
   "execution_count": 13,
   "metadata": {
    "scrolled": true
   },
   "outputs": [
    {
     "name": "stdout",
     "output_type": "stream",
     "text": [
      "['5']\n"
     ]
    },
    {
     "data": {
      "text/plain": [
       "array([[0.00449788],\n",
       "       [0.00208077],\n",
       "       [0.00233805],\n",
       "       [0.11569007],\n",
       "       [0.00178577],\n",
       "       [0.92976903],\n",
       "       [0.00186675],\n",
       "       [0.00227212],\n",
       "       [0.00220996],\n",
       "       [0.00219179]])"
      ]
     },
     "execution_count": 13,
     "metadata": {},
     "output_type": "execute_result"
    }
   ],
   "source": [
    "print(all_values[:1])\n",
    "n.query((numpy.asfarray(all_values[1:]) / 255.0 * 0.99) + 0.01)\n"
   ]
  },
  {
   "cell_type": "code",
   "execution_count": 14,
   "metadata": {},
   "outputs": [],
   "source": [
    "#тестирование нейронной сети\n",
    "\n",
    "#журнал ошибок работы нейронной сети, первоночально пустой\n",
    "scorecard = []\n",
    "\n",
    "#перебрать все записи в тестовом наборе\n",
    "for record in test_data_list:\n",
    "    all_values = record.split(',')\n",
    "    #правильный ответ первой значение\n",
    "    correct_label = int(all_values[0])\n",
    "    #print(correct_label, \"истенный маркер\")\n",
    "    #масштабировать и сместить выходные значения.\n",
    "    inputs = (numpy.asfarray(all_values[1:]) / 255.0 * 0.99) + 0.01\n",
    "    #опрос сети\n",
    "    outputs = n.query(inputs)\n",
    "    #индекс наибольшего значения является маркерным значением\n",
    "    label = numpy.argmax(outputs)\n",
    "    if(label == correct_label):\n",
    "        #в случае правильного ответа сети 1\n",
    "        scorecard.append(1)\n",
    "        pass\n",
    "    else:\n",
    "        scorecard.append(0)\n",
    "        pass\n",
    "    pass\n",
    "\n",
    "\n",
    "\n",
    "        \n",
    "    "
   ]
  },
  {
   "cell_type": "code",
   "execution_count": 15,
   "metadata": {},
   "outputs": [
    {
     "name": "stdout",
     "output_type": "stream",
     "text": [
      "[1 1 1 ... 1 1 1]\n",
      "57155\n",
      "60000\n",
      "эффективность =  0.9525833333333333\n"
     ]
    }
   ],
   "source": [
    "#рассчитать показатель эффективности в виде\n",
    "#доли правильных ответов\n",
    "scorecard_array = numpy.asarray(scorecard)\n",
    "print(scorecard_array)\n",
    "print(scorecard_array.sum())\n",
    "print(scorecard_array.size)\n",
    "print(\"эффективность = \", scorecard_array.sum() / scorecard_array.size)\n"
   ]
  },
  {
   "cell_type": "code",
   "execution_count": 16,
   "metadata": {},
   "outputs": [
    {
     "name": "stdout",
     "output_type": "stream",
     "text": [
      "5\n"
     ]
    },
    {
     "name": "stderr",
     "output_type": "stream",
     "text": [
      "/opt/anaconda/lib/python3.6/site-packages/ipykernel_launcher.py:2: DeprecationWarning: `imread` is deprecated!\n",
      "`imread` is deprecated in SciPy 1.0.0, and will be removed in 1.2.0.\n",
      "Use ``imageio.imread`` instead.\n",
      "  \n"
     ]
    }
   ],
   "source": [
    "import scipy.misc\n",
    "img_array = scipy.misc.imread('myMnist/5.png', flatten = True)\n",
    "img_data = 255.0 - img_array.reshape(784)\n",
    "img_data = (img_data / 255.0 * 0.99) + 0.01\n",
    "outputs = n.query(img_data)\n",
    "label = numpy.argmax(outputs)\n",
    "print(label)"
   ]
  },
  {
   "cell_type": "code",
   "execution_count": null,
   "metadata": {},
   "outputs": [],
   "source": []
  }
 ],
 "metadata": {
  "kernelspec": {
   "display_name": "Python 3",
   "language": "python",
   "name": "python3"
  },
  "language_info": {
   "codemirror_mode": {
    "name": "ipython",
    "version": 3
   },
   "file_extension": ".py",
   "mimetype": "text/x-python",
   "name": "python",
   "nbconvert_exporter": "python",
   "pygments_lexer": "ipython3",
   "version": "3.6.4"
  }
 },
 "nbformat": 4,
 "nbformat_minor": 2
}
